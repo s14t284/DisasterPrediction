{
 "cells": [
  {
   "cell_type": "markdown",
   "metadata": {},
   "source": [
    "# 重複ツイートに対する分析"
   ]
  },
  {
   "cell_type": "code",
   "execution_count": 1,
   "metadata": {},
   "outputs": [],
   "source": [
    "import pandas as pd\n",
    "import collections"
   ]
  },
  {
   "cell_type": "code",
   "execution_count": 21,
   "metadata": {},
   "outputs": [],
   "source": [
    "df = pd.read_csv('../data/1.train_data.csv')"
   ]
  },
  {
   "cell_type": "code",
   "execution_count": 3,
   "metadata": {},
   "outputs": [
    {
     "data": {
      "text/html": [
       "<div>\n",
       "<style scoped>\n",
       "    .dataframe tbody tr th:only-of-type {\n",
       "        vertical-align: middle;\n",
       "    }\n",
       "\n",
       "    .dataframe tbody tr th {\n",
       "        vertical-align: top;\n",
       "    }\n",
       "\n",
       "    .dataframe thead th {\n",
       "        text-align: right;\n",
       "    }\n",
       "</style>\n",
       "<table border=\"1\" class=\"dataframe\">\n",
       "  <thead>\n",
       "    <tr style=\"text-align: right;\">\n",
       "      <th></th>\n",
       "      <th>id</th>\n",
       "      <th>flg</th>\n",
       "      <th>keyword</th>\n",
       "      <th>location</th>\n",
       "      <th>text</th>\n",
       "    </tr>\n",
       "  </thead>\n",
       "  <tbody>\n",
       "    <tr>\n",
       "      <th>0</th>\n",
       "      <td>20587</td>\n",
       "      <td>0</td>\n",
       "      <td>覚醒剤</td>\n",
       "      <td>icon:大トロ(@sato_wall_aim )</td>\n",
       "      <td>【マイリスト】カカカカ覚醒剤 https://t.co/15ZY9Oa2QS #sm3630...</td>\n",
       "    </tr>\n",
       "    <tr>\n",
       "      <th>1</th>\n",
       "      <td>31857</td>\n",
       "      <td>0</td>\n",
       "      <td>雷 落雷</td>\n",
       "      <td>ジャングル</td>\n",
       "      <td>@kenjikenji3343 せやな　落雷撃たれたら全員張り付くしかなかったからなぁ　なん...</td>\n",
       "    </tr>\n",
       "    <tr>\n",
       "      <th>2</th>\n",
       "      <td>36793</td>\n",
       "      <td>0</td>\n",
       "      <td>血液</td>\n",
       "      <td>↓↓↓↓↓こちらをクリック↓↓↓↓</td>\n",
       "      <td>【カフェインの力】 体を動かす前にカフェインを摂ると交感神経が刺激され、体内の脂肪が分解され...</td>\n",
       "    </tr>\n",
       "    <tr>\n",
       "      <th>3</th>\n",
       "      <td>42299</td>\n",
       "      <td>0</td>\n",
       "      <td>ハリケーン</td>\n",
       "      <td>Close to your heart</td>\n",
       "      <td>あなたの鼓膜に直に響かせたい ハリケーンのように激しく愛したい 余計な壁なんて取っ払って　奥...</td>\n",
       "    </tr>\n",
       "    <tr>\n",
       "      <th>4</th>\n",
       "      <td>51449</td>\n",
       "      <td>0</td>\n",
       "      <td>殺人鬼</td>\n",
       "      <td>偽物なので悪しからず</td>\n",
       "      <td>@Mr8yt 違う違う。お化けは現実にいないけど殺人鬼は現実にいるじゃん〜。うーん、ホラーっ...</td>\n",
       "    </tr>\n",
       "  </tbody>\n",
       "</table>\n",
       "</div>"
      ],
      "text/plain": [
       "      id  flg keyword                   location  \\\n",
       "0  20587    0     覚醒剤  icon:大トロ(@sato_wall_aim )   \n",
       "1  31857    0    雷 落雷                      ジャングル   \n",
       "2  36793    0      血液          ↓↓↓↓↓こちらをクリック↓↓↓↓   \n",
       "3  42299    0   ハリケーン        Close to your heart   \n",
       "4  51449    0     殺人鬼                 偽物なので悪しからず   \n",
       "\n",
       "                                                text  \n",
       "0  【マイリスト】カカカカ覚醒剤 https://t.co/15ZY9Oa2QS #sm3630...  \n",
       "1  @kenjikenji3343 せやな　落雷撃たれたら全員張り付くしかなかったからなぁ　なん...  \n",
       "2  【カフェインの力】 体を動かす前にカフェインを摂ると交感神経が刺激され、体内の脂肪が分解され...  \n",
       "3  あなたの鼓膜に直に響かせたい ハリケーンのように激しく愛したい 余計な壁なんて取っ払って　奥...  \n",
       "4  @Mr8yt 違う違う。お化けは現実にいないけど殺人鬼は現実にいるじゃん〜。うーん、ホラーっ...  "
      ]
     },
     "execution_count": 3,
     "metadata": {},
     "output_type": "execute_result"
    }
   ],
   "source": [
    "df.head()"
   ]
  },
  {
   "cell_type": "code",
   "execution_count": 4,
   "metadata": {},
   "outputs": [],
   "source": [
    "texts = df.text.to_list()"
   ]
  },
  {
   "cell_type": "code",
   "execution_count": 5,
   "metadata": {},
   "outputs": [],
   "source": [
    "c = collections.Counter(texts)"
   ]
  },
  {
   "cell_type": "code",
   "execution_count": 6,
   "metadata": {},
   "outputs": [
    {
     "data": {
      "text/plain": [
       "[('こちらは爆撃垢です', 14),\n",
       " ('法務省官僚が法律を守らずに犯罪してますが、税務署職員全員が脱税していながら国民に税金払わせたり、警察官が大量殺人事件を起こして逮捕されないのに万引きしたら国民は死刑になりそうな世の中になっていますね(´・ω・｀)  法務省の犯罪は止めましょう！',\n",
       "  10),\n",
       " ('爆撃', 8),\n",
       " ('立てこもり犯は、ほぼ逃げ切れない。逃げ切るには第三者の協力が必要。＃犯罪あるある', 8),\n",
       " ('＃3年A組\\u3000＃5話ネタバレ\\u3000＃5話見どころ  3年A組 5話のあらすじや見どころ・ネタバレをお届けします  柊先生が倒れたのに、立てこもりを続ける理由は？  https://t.co/zPcQYpU1Qp',\n",
       "  8),\n",
       " ('SA330はフランスのシュドアビアシオン及びその後身アエロスパシアル製の汎用ヘリコプターで兵士20人か担架6台を積載可能な全天候型汎用ヘリコプターとして開発されておりフランス空軍では29機を装備している。 https://t.co/5uslybEzZa',\n",
       "  7),\n",
       " ('1950年11月27日、在日朝鮮人が生活保護を要求して 長田区 役所を襲撃した！その後も、在日朝鮮人は、1951年の下 里村 役場集団恐喝事件、1952年の万来町事件など、生活保護費受給を求める騒乱事件を相次いで起こした。',\n",
       "  7),\n",
       " ('え？先輩立てこもりっすか？ 【×立てこもり→⚪︎引きこもり】', 6),\n",
       " ('阪神・淡路大震災のとき家を放りだされて避難生活をした人間にとっては偽善かどうかはどうでもいいの。助けてくれたという事実だけが大切なの。予備校講師、萩野文子さんの言葉です。',\n",
       "  6),\n",
       " ('＃3年A組\\u3000＃5話ネタバレ\\u3000＃5話見どころ  3年A組 5話のあらすじや見どころ・ネタバレをお届けします  柊先生が倒れたのに、立てこもりを続ける理由は？  https://t.co/c95X1RV6dL',\n",
       "  6)]"
      ]
     },
     "execution_count": 6,
     "metadata": {},
     "output_type": "execute_result"
    }
   ],
   "source": [
    "c.most_common()[:10]"
   ]
  },
  {
   "cell_type": "markdown",
   "metadata": {},
   "source": [
    "## 重複して出現するかつラベリングミスしているもの\n",
    "- これらは削除する必要がある\n",
    "- それ以外は1文に集約"
   ]
  },
  {
   "cell_type": "code",
   "execution_count": 11,
   "metadata": {},
   "outputs": [
    {
     "data": {
      "text/html": [
       "<div>\n",
       "<style scoped>\n",
       "    .dataframe tbody tr th:only-of-type {\n",
       "        vertical-align: middle;\n",
       "    }\n",
       "\n",
       "    .dataframe tbody tr th {\n",
       "        vertical-align: top;\n",
       "    }\n",
       "\n",
       "    .dataframe thead th {\n",
       "        text-align: right;\n",
       "    }\n",
       "</style>\n",
       "<table border=\"1\" class=\"dataframe\">\n",
       "  <thead>\n",
       "    <tr style=\"text-align: right;\">\n",
       "      <th></th>\n",
       "      <th>id</th>\n",
       "      <th>flg</th>\n",
       "      <th>keyword</th>\n",
       "      <th>location</th>\n",
       "      <th>text</th>\n",
       "    </tr>\n",
       "    <tr>\n",
       "      <th>text</th>\n",
       "      <th></th>\n",
       "      <th></th>\n",
       "      <th></th>\n",
       "      <th></th>\n",
       "      <th></th>\n",
       "    </tr>\n",
       "  </thead>\n",
       "  <tbody>\n",
       "    <tr>\n",
       "      <th>JR東海道線であわや大惨事 崩落現場からわずか100m手前でストップ #ldnews https://t.co/St6BSmNitE</th>\n",
       "      <td>2</td>\n",
       "      <td>2</td>\n",
       "      <td>1</td>\n",
       "      <td>1</td>\n",
       "      <td>1</td>\n",
       "    </tr>\n",
       "    <tr>\n",
       "      <th>武漢から退避するドイツ救援機の着陸許さず ロシアへ反発も。ドイツ国防相は1日、中国・武漢から帰国の途についた空軍救援機に言及。乗員交代のために計画露モスクワでの一時着陸が許可されなかった。空港の能力不足が理由とされるが、ドイツ政界からはロシアへの反発もある( ･ω･)</th>\n",
       "      <td>5</td>\n",
       "      <td>2</td>\n",
       "      <td>1</td>\n",
       "      <td>3</td>\n",
       "      <td>1</td>\n",
       "    </tr>\n",
       "    <tr>\n",
       "      <th>◆鹿児島市星ヶ峯の市道で､市街地方面に向かっていた普通乗用車が対向車線をはみ出し､直進してきたﾊﾞｲｸと正面衝突した｡この事故でﾊﾞｲｸに乗っていた畠中正典さん５２歳が頭などを強く打ち､搬送先の病院で死亡した｡畠中さんは新聞配達のｱﾙﾊﾞｲﾄ中でした｡</th>\n",
       "      <td>2</td>\n",
       "      <td>2</td>\n",
       "      <td>1</td>\n",
       "      <td>0</td>\n",
       "      <td>1</td>\n",
       "    </tr>\n",
       "    <tr>\n",
       "      <th>北海道・長野で雪崩相次ぐ、英国人ら巻き込まれ死亡。(・｀ω´・)</th>\n",
       "      <td>4</td>\n",
       "      <td>2</td>\n",
       "      <td>1</td>\n",
       "      <td>2</td>\n",
       "      <td>1</td>\n",
       "    </tr>\n",
       "  </tbody>\n",
       "</table>\n",
       "</div>"
      ],
      "text/plain": [
       "                                                    id  flg  keyword  \\\n",
       "text                                                                   \n",
       "JR東海道線であわや大惨事 崩落現場からわずか100m手前でストップ #ldnews http...   2    2        1   \n",
       "武漢から退避するドイツ救援機の着陸許さず ロシアへ反発も。ドイツ国防相は1日、中国・武漢から帰...   5    2        1   \n",
       "◆鹿児島市星ヶ峯の市道で､市街地方面に向かっていた普通乗用車が対向車線をはみ出し､直進してきた...   2    2        1   \n",
       "北海道・長野で雪崩相次ぐ、英国人ら巻き込まれ死亡。(・｀ω´・)                     4    2        1   \n",
       "\n",
       "                                                    location  text  \n",
       "text                                                                \n",
       "JR東海道線であわや大惨事 崩落現場からわずか100m手前でストップ #ldnews http...         1     1  \n",
       "武漢から退避するドイツ救援機の着陸許さず ロシアへ反発も。ドイツ国防相は1日、中国・武漢から帰...         3     1  \n",
       "◆鹿児島市星ヶ峯の市道で､市街地方面に向かっていた普通乗用車が対向車線をはみ出し､直進してきた...         0     1  \n",
       "北海道・長野で雪崩相次ぐ、英国人ら巻き込まれ死亡。(・｀ω´・)                           2     1  "
      ]
     },
     "execution_count": 11,
     "metadata": {},
     "output_type": "execute_result"
    }
   ],
   "source": [
    "df_mislabeled = df.groupby(['text']).nunique().sort_values(by='flg', ascending=False)\n",
    "df_mislabeled[df_mislabeled.flg > 1]\n",
    "#df_mislabeled = df_mislabeled[df_mislabeled['flg'] > 1]['flg']\n",
    "#df_mislabeled.index.tolist()"
   ]
  },
  {
   "cell_type": "code",
   "execution_count": 27,
   "metadata": {},
   "outputs": [],
   "source": [
    "df.loc[df.text == 'JR東海道線であわや大惨事 崩落現場からわずか100m手前でストップ #ldnews https://t.co/St6BSmNitE', 'flg'] = 0"
   ]
  },
  {
   "cell_type": "code",
   "execution_count": 25,
   "metadata": {},
   "outputs": [
    {
     "data": {
      "text/html": [
       "<div>\n",
       "<style scoped>\n",
       "    .dataframe tbody tr th:only-of-type {\n",
       "        vertical-align: middle;\n",
       "    }\n",
       "\n",
       "    .dataframe tbody tr th {\n",
       "        vertical-align: top;\n",
       "    }\n",
       "\n",
       "    .dataframe thead th {\n",
       "        text-align: right;\n",
       "    }\n",
       "</style>\n",
       "<table border=\"1\" class=\"dataframe\">\n",
       "  <thead>\n",
       "    <tr style=\"text-align: right;\">\n",
       "      <th></th>\n",
       "      <th>id</th>\n",
       "      <th>flg</th>\n",
       "      <th>keyword</th>\n",
       "      <th>location</th>\n",
       "      <th>text</th>\n",
       "    </tr>\n",
       "  </thead>\n",
       "  <tbody>\n",
       "    <tr>\n",
       "      <th>16319</th>\n",
       "      <td>48892</td>\n",
       "      <td>0</td>\n",
       "      <td>崩落</td>\n",
       "      <td>東京都葛飾区　亀有公園前派出所</td>\n",
       "      <td>JR東海道線であわや大惨事 崩落現場からわずか100m手前でストップ #ldnews htt...</td>\n",
       "    </tr>\n",
       "    <tr>\n",
       "      <th>19068</th>\n",
       "      <td>48705</td>\n",
       "      <td>0</td>\n",
       "      <td>崩落</td>\n",
       "      <td>東京都葛飾区　亀有公園前派出所</td>\n",
       "      <td>JR東海道線であわや大惨事 崩落現場からわずか100m手前でストップ #ldnews htt...</td>\n",
       "    </tr>\n",
       "  </tbody>\n",
       "</table>\n",
       "</div>"
      ],
      "text/plain": [
       "          id  flg keyword         location  \\\n",
       "16319  48892    0      崩落  東京都葛飾区　亀有公園前派出所   \n",
       "19068  48705    0      崩落  東京都葛飾区　亀有公園前派出所   \n",
       "\n",
       "                                                    text  \n",
       "16319  JR東海道線であわや大惨事 崩落現場からわずか100m手前でストップ #ldnews htt...  \n",
       "19068  JR東海道線であわや大惨事 崩落現場からわずか100m手前でストップ #ldnews htt...  "
      ]
     },
     "execution_count": 25,
     "metadata": {},
     "output_type": "execute_result"
    }
   ],
   "source": [
    "df[df.text == 'JR東海道線であわや大惨事 崩落現場からわずか100m手前でストップ #ldnews https://t.co/St6BSmNitE']"
   ]
  },
  {
   "cell_type": "markdown",
   "metadata": {},
   "source": [
    "## 重複削除の検討\n",
    "  - textがかぶっていてもkeywordかlocationが違う場合がある\n",
    "  - どの場合に重複とするか検討"
   ]
  },
  {
   "cell_type": "code",
   "execution_count": 36,
   "metadata": {},
   "outputs": [
    {
     "name": "stdout",
     "output_type": "stream",
     "text": [
      "<class 'pandas.core.frame.DataFrame'>\n",
      "Int64Index: 19904 entries, 0 to 20284\n",
      "Data columns (total 5 columns):\n",
      " #   Column    Non-Null Count  Dtype \n",
      "---  ------    --------------  ----- \n",
      " 0   id        19904 non-null  int64 \n",
      " 1   flg       19904 non-null  int64 \n",
      " 2   keyword   19904 non-null  object\n",
      " 3   location  11696 non-null  object\n",
      " 4   text      19904 non-null  object\n",
      "dtypes: int64(2), object(3)\n",
      "memory usage: 933.0+ KB\n"
     ]
    }
   ],
   "source": [
    "# これで良さそう\n",
    "df.drop_duplicates(subset=['text', 'location']).info()"
   ]
  },
  {
   "cell_type": "code",
   "execution_count": 32,
   "metadata": {},
   "outputs": [
    {
     "name": "stdout",
     "output_type": "stream",
     "text": [
      "<class 'pandas.core.frame.DataFrame'>\n",
      "Int64Index: 19866 entries, 0 to 20284\n",
      "Data columns (total 5 columns):\n",
      " #   Column    Non-Null Count  Dtype \n",
      "---  ------    --------------  ----- \n",
      " 0   id        19866 non-null  int64 \n",
      " 1   flg       19866 non-null  int64 \n",
      " 2   keyword   19866 non-null  object\n",
      " 3   location  11667 non-null  object\n",
      " 4   text      19866 non-null  object\n",
      "dtypes: int64(2), object(3)\n",
      "memory usage: 931.2+ KB\n"
     ]
    }
   ],
   "source": [
    "df.drop_duplicates(subset=['text']).info()"
   ]
  },
  {
   "cell_type": "code",
   "execution_count": 34,
   "metadata": {},
   "outputs": [
    {
     "name": "stdout",
     "output_type": "stream",
     "text": [
      "<class 'pandas.core.frame.DataFrame'>\n",
      "Int64Index: 19930 entries, 0 to 20284\n",
      "Data columns (total 5 columns):\n",
      " #   Column    Non-Null Count  Dtype \n",
      "---  ------    --------------  ----- \n",
      " 0   id        19930 non-null  int64 \n",
      " 1   flg       19930 non-null  int64 \n",
      " 2   keyword   19930 non-null  object\n",
      " 3   location  11708 non-null  object\n",
      " 4   text      19930 non-null  object\n",
      "dtypes: int64(2), object(3)\n",
      "memory usage: 934.2+ KB\n"
     ]
    }
   ],
   "source": [
    "df.drop_duplicates(subset=['text', 'keyword', 'location']).info()"
   ]
  },
  {
   "cell_type": "code",
   "execution_count": 35,
   "metadata": {},
   "outputs": [
    {
     "name": "stdout",
     "output_type": "stream",
     "text": [
      "<class 'pandas.core.frame.DataFrame'>\n",
      "RangeIndex: 20285 entries, 0 to 20284\n",
      "Data columns (total 5 columns):\n",
      " #   Column    Non-Null Count  Dtype \n",
      "---  ------    --------------  ----- \n",
      " 0   id        20285 non-null  int64 \n",
      " 1   flg       20285 non-null  int64 \n",
      " 2   keyword   20285 non-null  object\n",
      " 3   location  11819 non-null  object\n",
      " 4   text      20285 non-null  object\n",
      "dtypes: int64(2), object(3)\n",
      "memory usage: 792.5+ KB\n"
     ]
    }
   ],
   "source": [
    "df.info()"
   ]
  },
  {
   "cell_type": "code",
   "execution_count": null,
   "metadata": {},
   "outputs": [],
   "source": []
  }
 ],
 "metadata": {
  "kernelspec": {
   "display_name": "Python 3",
   "language": "python",
   "name": "python3"
  },
  "language_info": {
   "codemirror_mode": {
    "name": "ipython",
    "version": 3
   },
   "file_extension": ".py",
   "mimetype": "text/x-python",
   "name": "python",
   "nbconvert_exporter": "python",
   "pygments_lexer": "ipython3",
   "version": "3.7.5"
  }
 },
 "nbformat": 4,
 "nbformat_minor": 4
}
