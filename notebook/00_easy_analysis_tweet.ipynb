{
 "cells": [
  {
   "cell_type": "code",
   "execution_count": 120,
   "metadata": {},
   "outputs": [],
   "source": [
    "import pandas as pd\n",
    "import re\n",
    "import emoji\n",
    "import nagisa\n",
    "import neologdn"
   ]
  },
  {
   "cell_type": "code",
   "execution_count": 4,
   "metadata": {},
   "outputs": [],
   "source": [
    "dataset_path = \"../data/\""
   ]
  },
  {
   "cell_type": "code",
   "execution_count": 30,
   "metadata": {},
   "outputs": [],
   "source": [
    "train_df = pd.read_csv(f\"{dataset_path}1.train_data.csv\")\n",
    "test_df = pd.read_csv(f\"{dataset_path}2.test_data.csv\")\n",
    "test_df_flg = pd.read_csv(f\"{dataset_path}3.submission.csv\")\n",
    "test_df = pd.concat([test_df, test_df_flg], join='inner', axis=1)"
   ]
  },
  {
   "cell_type": "code",
   "execution_count": 31,
   "metadata": {},
   "outputs": [
    {
     "data": {
      "text/html": [
       "<div>\n",
       "<style scoped>\n",
       "    .dataframe tbody tr th:only-of-type {\n",
       "        vertical-align: middle;\n",
       "    }\n",
       "\n",
       "    .dataframe tbody tr th {\n",
       "        vertical-align: top;\n",
       "    }\n",
       "\n",
       "    .dataframe thead th {\n",
       "        text-align: right;\n",
       "    }\n",
       "</style>\n",
       "<table border=\"1\" class=\"dataframe\">\n",
       "  <thead>\n",
       "    <tr style=\"text-align: right;\">\n",
       "      <th></th>\n",
       "      <th>id</th>\n",
       "      <th>flg</th>\n",
       "      <th>keyword</th>\n",
       "      <th>location</th>\n",
       "      <th>text</th>\n",
       "    </tr>\n",
       "  </thead>\n",
       "  <tbody>\n",
       "    <tr>\n",
       "      <th>0</th>\n",
       "      <td>20587</td>\n",
       "      <td>0</td>\n",
       "      <td>覚醒剤</td>\n",
       "      <td>icon:大トロ(@sato_wall_aim )</td>\n",
       "      <td>【マイリスト】カカカカ覚醒剤 https://t.co/15ZY9Oa2QS #sm3630...</td>\n",
       "    </tr>\n",
       "    <tr>\n",
       "      <th>1</th>\n",
       "      <td>31857</td>\n",
       "      <td>0</td>\n",
       "      <td>雷 落雷</td>\n",
       "      <td>ジャングル</td>\n",
       "      <td>@kenjikenji3343 せやな　落雷撃たれたら全員張り付くしかなかったからなぁ　なん...</td>\n",
       "    </tr>\n",
       "    <tr>\n",
       "      <th>2</th>\n",
       "      <td>36793</td>\n",
       "      <td>0</td>\n",
       "      <td>血液</td>\n",
       "      <td>↓↓↓↓↓こちらをクリック↓↓↓↓</td>\n",
       "      <td>【カフェインの力】 体を動かす前にカフェインを摂ると交感神経が刺激され、体内の脂肪が分解され...</td>\n",
       "    </tr>\n",
       "    <tr>\n",
       "      <th>3</th>\n",
       "      <td>42299</td>\n",
       "      <td>0</td>\n",
       "      <td>ハリケーン</td>\n",
       "      <td>Close to your heart</td>\n",
       "      <td>あなたの鼓膜に直に響かせたい ハリケーンのように激しく愛したい 余計な壁なんて取っ払って　奥...</td>\n",
       "    </tr>\n",
       "    <tr>\n",
       "      <th>4</th>\n",
       "      <td>51449</td>\n",
       "      <td>0</td>\n",
       "      <td>殺人鬼</td>\n",
       "      <td>偽物なので悪しからず</td>\n",
       "      <td>@Mr8yt 違う違う。お化けは現実にいないけど殺人鬼は現実にいるじゃん〜。うーん、ホラーっ...</td>\n",
       "    </tr>\n",
       "  </tbody>\n",
       "</table>\n",
       "</div>"
      ],
      "text/plain": [
       "      id  flg keyword                   location  \\\n",
       "0  20587    0     覚醒剤  icon:大トロ(@sato_wall_aim )   \n",
       "1  31857    0    雷 落雷                      ジャングル   \n",
       "2  36793    0      血液          ↓↓↓↓↓こちらをクリック↓↓↓↓   \n",
       "3  42299    0   ハリケーン        Close to your heart   \n",
       "4  51449    0     殺人鬼                 偽物なので悪しからず   \n",
       "\n",
       "                                                text  \n",
       "0  【マイリスト】カカカカ覚醒剤 https://t.co/15ZY9Oa2QS #sm3630...  \n",
       "1  @kenjikenji3343 せやな　落雷撃たれたら全員張り付くしかなかったからなぁ　なん...  \n",
       "2  【カフェインの力】 体を動かす前にカフェインを摂ると交感神経が刺激され、体内の脂肪が分解され...  \n",
       "3  あなたの鼓膜に直に響かせたい ハリケーンのように激しく愛したい 余計な壁なんて取っ払って　奥...  \n",
       "4  @Mr8yt 違う違う。お化けは現実にいないけど殺人鬼は現実にいるじゃん〜。うーん、ホラーっ...  "
      ]
     },
     "execution_count": 31,
     "metadata": {},
     "output_type": "execute_result"
    }
   ],
   "source": [
    "train_df.head()"
   ]
  },
  {
   "cell_type": "code",
   "execution_count": 32,
   "metadata": {},
   "outputs": [
    {
     "data": {
      "text/html": [
       "<div>\n",
       "<style scoped>\n",
       "    .dataframe tbody tr th:only-of-type {\n",
       "        vertical-align: middle;\n",
       "    }\n",
       "\n",
       "    .dataframe tbody tr th {\n",
       "        vertical-align: top;\n",
       "    }\n",
       "\n",
       "    .dataframe thead th {\n",
       "        text-align: right;\n",
       "    }\n",
       "</style>\n",
       "<table border=\"1\" class=\"dataframe\">\n",
       "  <thead>\n",
       "    <tr style=\"text-align: right;\">\n",
       "      <th></th>\n",
       "      <th>id</th>\n",
       "      <th>keyword</th>\n",
       "      <th>location</th>\n",
       "      <th>text</th>\n",
       "      <th>flg</th>\n",
       "    </tr>\n",
       "  </thead>\n",
       "  <tbody>\n",
       "    <tr>\n",
       "      <th>0</th>\n",
       "      <td>25429</td>\n",
       "      <td>避難した</td>\n",
       "      <td>日本</td>\n",
       "      <td>@adachib 反原発によるエビデンスのない恐怖や不安煽りで自主避難した人を蹴落とすのかな？</td>\n",
       "      <td>0</td>\n",
       "    </tr>\n",
       "    <tr>\n",
       "      <th>1</th>\n",
       "      <td>40004</td>\n",
       "      <td>火災</td>\n",
       "      <td>NaN</td>\n",
       "      <td>通行止【2月2日14:25現在】八戸道  安代ＪＣＴ〜浄法寺ＩＣ (下り北行) 火災による通...</td>\n",
       "      <td>0</td>\n",
       "    </tr>\n",
       "    <tr>\n",
       "      <th>2</th>\n",
       "      <td>33451</td>\n",
       "      <td>目撃者</td>\n",
       "      <td>NaN</td>\n",
       "      <td>君は死ななくてはならないんだ…目撃者は生かしておけないよ…誰ひとりとしてこの『吉良吉影』の正...</td>\n",
       "      <td>0</td>\n",
       "    </tr>\n",
       "    <tr>\n",
       "      <th>3</th>\n",
       "      <td>44781</td>\n",
       "      <td>負傷者</td>\n",
       "      <td>えいてぃーん / ic → りーふさん</td>\n",
       "      <td>寸止めガチ勢任せてください。(負傷者2人以上の技師本体は無理)</td>\n",
       "      <td>0</td>\n",
       "    </tr>\n",
       "    <tr>\n",
       "      <th>4</th>\n",
       "      <td>27007</td>\n",
       "      <td>衝突</td>\n",
       "      <td>ハリー先生の元</td>\n",
       "      <td>暇だったのでみんなでごっこ遊びをしていた時 ハリー「おっと、それ以上近づくと軽快なBGMと共...</td>\n",
       "      <td>0</td>\n",
       "    </tr>\n",
       "  </tbody>\n",
       "</table>\n",
       "</div>"
      ],
      "text/plain": [
       "      id keyword             location  \\\n",
       "0  25429    避難した                   日本   \n",
       "1  40004      火災                  NaN   \n",
       "2  33451     目撃者                  NaN   \n",
       "3  44781     負傷者  えいてぃーん / ic → りーふさん   \n",
       "4  27007      衝突              ハリー先生の元   \n",
       "\n",
       "                                                text  flg  \n",
       "0    @adachib 反原発によるエビデンスのない恐怖や不安煽りで自主避難した人を蹴落とすのかな？    0  \n",
       "1  通行止【2月2日14:25現在】八戸道  安代ＪＣＴ〜浄法寺ＩＣ (下り北行) 火災による通...    0  \n",
       "2  君は死ななくてはならないんだ…目撃者は生かしておけないよ…誰ひとりとしてこの『吉良吉影』の正...    0  \n",
       "3                    寸止めガチ勢任せてください。(負傷者2人以上の技師本体は無理)    0  \n",
       "4  暇だったのでみんなでごっこ遊びをしていた時 ハリー「おっと、それ以上近づくと軽快なBGMと共...    0  "
      ]
     },
     "execution_count": 32,
     "metadata": {},
     "output_type": "execute_result"
    }
   ],
   "source": [
    "test_df.head()"
   ]
  },
  {
   "cell_type": "code",
   "execution_count": 42,
   "metadata": {},
   "outputs": [
    {
     "name": "stdout",
     "output_type": "stream",
     "text": [
      "<class 'pandas.core.frame.DataFrame'>\n",
      "RangeIndex: 13524 entries, 0 to 13523\n",
      "Data columns (total 5 columns):\n",
      " #   Column    Non-Null Count  Dtype \n",
      "---  ------    --------------  ----- \n",
      " 0   id        13524 non-null  int64 \n",
      " 1   keyword   13524 non-null  object\n",
      " 2   location  7944 non-null   object\n",
      " 3   text      13524 non-null  object\n",
      " 4   flg       13524 non-null  int64 \n",
      "dtypes: int64(2), object(3)\n",
      "memory usage: 528.4+ KB\n",
      "<class 'pandas.core.frame.DataFrame'>\n",
      "RangeIndex: 20285 entries, 0 to 20284\n",
      "Data columns (total 5 columns):\n",
      " #   Column    Non-Null Count  Dtype \n",
      "---  ------    --------------  ----- \n",
      " 0   id        20285 non-null  int64 \n",
      " 1   flg       20285 non-null  int64 \n",
      " 2   keyword   20285 non-null  object\n",
      " 3   location  11819 non-null  object\n",
      " 4   text      20285 non-null  object\n",
      "dtypes: int64(2), object(3)\n",
      "memory usage: 792.5+ KB\n"
     ]
    }
   ],
   "source": [
    "train_df.info()\n",
    "test_df.info()"
   ]
  },
  {
   "cell_type": "code",
   "execution_count": 44,
   "metadata": {},
   "outputs": [
    {
     "data": {
      "text/plain": [
       "0    18851\n",
       "1     1434\n",
       "Name: flg, dtype: int64"
      ]
     },
     "execution_count": 44,
     "metadata": {},
     "output_type": "execute_result"
    }
   ],
   "source": [
    "train_df['flg'].value_counts()"
   ]
  },
  {
   "cell_type": "code",
   "execution_count": 45,
   "metadata": {},
   "outputs": [
    {
     "data": {
      "text/plain": [
       "0    13524\n",
       "Name: flg, dtype: int64"
      ]
     },
     "execution_count": 45,
     "metadata": {},
     "output_type": "execute_result"
    }
   ],
   "source": [
    "# testデータに正例が1つも含まれていない\n",
    "test_df['flg'].value_counts()"
   ]
  },
  {
   "cell_type": "markdown",
   "metadata": {},
   "source": [
    "## リプライ\n",
    "- リプライの多くは負例にふくまれている\n",
    "- 災害に関する有益な情報は多くの人に共有されることが影響"
   ]
  },
  {
   "cell_type": "code",
   "execution_count": 61,
   "metadata": {},
   "outputs": [
    {
     "data": {
      "text/plain": [
       "False    15675\n",
       "True      4610\n",
       "Name: text, dtype: int64"
      ]
     },
     "execution_count": 61,
     "metadata": {},
     "output_type": "execute_result"
    }
   ],
   "source": [
    "train_df['text'].str.startswith('@').value_counts()"
   ]
  },
  {
   "cell_type": "code",
   "execution_count": 64,
   "metadata": {},
   "outputs": [
    {
     "data": {
      "text/plain": [
       "4530"
      ]
     },
     "execution_count": 64,
     "metadata": {},
     "output_type": "execute_result"
    }
   ],
   "source": [
    "train_df[train_df.flg == 0]['text'].str.startswith('@').sum()"
   ]
  },
  {
   "cell_type": "code",
   "execution_count": 66,
   "metadata": {},
   "outputs": [
    {
     "data": {
      "text/plain": [
       "80"
      ]
     },
     "execution_count": 66,
     "metadata": {},
     "output_type": "execute_result"
    }
   ],
   "source": [
    "train_df[train_df.flg == 1]['text'].str.startswith('@').sum()"
   ]
  },
  {
   "cell_type": "code",
   "execution_count": 35,
   "metadata": {},
   "outputs": [
    {
     "data": {
      "text/plain": [
       "2997"
      ]
     },
     "execution_count": 35,
     "metadata": {},
     "output_type": "execute_result"
    }
   ],
   "source": [
    "test_df[test_df.flg == 0]['text'].str.startswith('@').sum()"
   ]
  },
  {
   "cell_type": "code",
   "execution_count": 36,
   "metadata": {},
   "outputs": [
    {
     "data": {
      "text/plain": [
       "0"
      ]
     },
     "execution_count": 36,
     "metadata": {},
     "output_type": "execute_result"
    }
   ],
   "source": [
    "test_df[test_df.flg == 1]['text'].str.startswith('@').sum()"
   ]
  },
  {
   "cell_type": "markdown",
   "metadata": {},
   "source": [
    "## URL\n",
    "- 正例の多くはURL付きツイート（学習データだと 951/1434がURL付きツイート）\n",
    "- また，URL付きツイートの951/5190が正例"
   ]
  },
  {
   "cell_type": "code",
   "execution_count": 50,
   "metadata": {},
   "outputs": [],
   "source": [
    "def inURL(text: str):\n",
    "    return re.search(r'https?://[\\w\\:%#$&\\?\\(\\)!\\.=\\+\\-]+', text) is not None"
   ]
  },
  {
   "cell_type": "code",
   "execution_count": 70,
   "metadata": {},
   "outputs": [],
   "source": [
    "train_df['inurl'] = train_df.text.apply(inURL)\n",
    "test_df['inurl'] = test_df.text.apply(inURL)"
   ]
  },
  {
   "cell_type": "code",
   "execution_count": 60,
   "metadata": {},
   "outputs": [
    {
     "data": {
      "text/plain": [
       "False    15095\n",
       "True      5190\n",
       "Name: inurl, dtype: int64"
      ]
     },
     "execution_count": 60,
     "metadata": {},
     "output_type": "execute_result"
    }
   ],
   "source": [
    "train_df.inurl.value_counts()"
   ]
  },
  {
   "cell_type": "code",
   "execution_count": 67,
   "metadata": {},
   "outputs": [
    {
     "data": {
      "text/plain": [
       "951"
      ]
     },
     "execution_count": 67,
     "metadata": {},
     "output_type": "execute_result"
    }
   ],
   "source": [
    "train_df[train_df.flg == 1].inurl.sum()"
   ]
  },
  {
   "cell_type": "code",
   "execution_count": 68,
   "metadata": {},
   "outputs": [
    {
     "data": {
      "text/plain": [
       "4239"
      ]
     },
     "execution_count": 68,
     "metadata": {},
     "output_type": "execute_result"
    }
   ],
   "source": [
    "train_df[train_df.flg == 0].inurl.sum()"
   ]
  },
  {
   "cell_type": "code",
   "execution_count": 71,
   "metadata": {},
   "outputs": [
    {
     "data": {
      "text/plain": [
       "False    10011\n",
       "True      3513\n",
       "Name: inurl, dtype: int64"
      ]
     },
     "execution_count": 71,
     "metadata": {},
     "output_type": "execute_result"
    }
   ],
   "source": [
    "test_df.inurl.value_counts()"
   ]
  },
  {
   "cell_type": "markdown",
   "metadata": {},
   "source": [
    "## location\n",
    "- locationが書かれているユーザの方が多い\n",
    "- 別途分析が必要そう"
   ]
  },
  {
   "cell_type": "code",
   "execution_count": 74,
   "metadata": {},
   "outputs": [
    {
     "data": {
      "text/plain": [
       "8466"
      ]
     },
     "execution_count": 74,
     "metadata": {},
     "output_type": "execute_result"
    }
   ],
   "source": [
    "train_df.location.isnull().sum()"
   ]
  },
  {
   "cell_type": "code",
   "execution_count": 82,
   "metadata": {},
   "outputs": [
    {
     "name": "stdout",
     "output_type": "stream",
     "text": [
      "0    18851\n",
      "1     1434\n",
      "Name: flg, dtype: int64\n"
     ]
    },
    {
     "data": {
      "text/plain": [
       "0    7921\n",
       "1     545\n",
       "Name: flg, dtype: int64"
      ]
     },
     "execution_count": 82,
     "metadata": {},
     "output_type": "execute_result"
    }
   ],
   "source": [
    "print(train_df.flg.value_counts())\n",
    "train_df[train_df.location.isnull()].flg.value_counts()"
   ]
  },
  {
   "cell_type": "code",
   "execution_count": 90,
   "metadata": {},
   "outputs": [
    {
     "data": {
      "text/plain": [
       "0    10930\n",
       "1      889\n",
       "Name: flg, dtype: int64"
      ]
     },
     "execution_count": 90,
     "metadata": {},
     "output_type": "execute_result"
    }
   ],
   "source": [
    "train_df[train_df.count(axis=1) == 6].flg.value_counts()"
   ]
  },
  {
   "cell_type": "markdown",
   "metadata": {},
   "source": [
    "### locationがNanでないもの"
   ]
  },
  {
   "cell_type": "code",
   "execution_count": 89,
   "metadata": {},
   "outputs": [
    {
     "data": {
      "text/plain": [
       "0        icon:大トロ(@sato_wall_aim )\n",
       "1                            ジャングル\n",
       "2                ↓↓↓↓↓こちらをクリック↓↓↓↓\n",
       "3              Close to your heart\n",
       "4                       偽物なので悪しからず\n",
       "                   ...            \n",
       "20277                       仙台市青葉区\n",
       "20278                         尿道の中\n",
       "20281                   🐒🐟 ✩͓̊  🌊🐷\n",
       "20282                        Japan\n",
       "20284                       日本のどこか\n",
       "Name: location, Length: 11819, dtype: object"
      ]
     },
     "execution_count": 89,
     "metadata": {},
     "output_type": "execute_result"
    }
   ],
   "source": [
    "train_df[train_df.count(axis=1) == 6].location"
   ]
  },
  {
   "cell_type": "code",
   "execution_count": 91,
   "metadata": {},
   "outputs": [],
   "source": [
    "with open(f'{dataset_path}location_list.txt', 'w') as f:\n",
    "    f.write('\\n'.join(train_df[train_df.count(axis=1) == 6].location.tolist()))"
   ]
  },
  {
   "cell_type": "markdown",
   "metadata": {},
   "source": [
    "## hashtag\n",
    "- 正例の 380/1434にhashtagがふくまれている"
   ]
  },
  {
   "cell_type": "code",
   "execution_count": 93,
   "metadata": {},
   "outputs": [],
   "source": [
    "def in_hashtag(text: str):\n",
    "    return re.search(r'#.+', text) is not None"
   ]
  },
  {
   "cell_type": "code",
   "execution_count": 98,
   "metadata": {},
   "outputs": [],
   "source": [
    "train_df['inhashtag'] = train_df.text.apply(in_hashtag)\n",
    "test_df['inhashtag'] = test_df.text.apply(in_hashtag)"
   ]
  },
  {
   "cell_type": "code",
   "execution_count": 99,
   "metadata": {},
   "outputs": [
    {
     "data": {
      "text/plain": [
       "False    18165\n",
       "True      2120\n",
       "Name: inhashtag, dtype: int64"
      ]
     },
     "execution_count": 99,
     "metadata": {},
     "output_type": "execute_result"
    }
   ],
   "source": [
    "train_df.inhashtag.value_counts()"
   ]
  },
  {
   "cell_type": "code",
   "execution_count": 100,
   "metadata": {},
   "outputs": [
    {
     "data": {
      "text/plain": [
       "380"
      ]
     },
     "execution_count": 100,
     "metadata": {},
     "output_type": "execute_result"
    }
   ],
   "source": [
    "train_df[train_df.flg == 1].inhashtag.sum()"
   ]
  },
  {
   "cell_type": "code",
   "execution_count": 101,
   "metadata": {},
   "outputs": [
    {
     "data": {
      "text/plain": [
       "1740"
      ]
     },
     "execution_count": 101,
     "metadata": {},
     "output_type": "execute_result"
    }
   ],
   "source": [
    "train_df[train_df.flg == 0].inhashtag.sum()"
   ]
  },
  {
   "cell_type": "code",
   "execution_count": 102,
   "metadata": {},
   "outputs": [
    {
     "data": {
      "text/plain": [
       "False    12052\n",
       "True      1472\n",
       "Name: inhashtag, dtype: int64"
      ]
     },
     "execution_count": 102,
     "metadata": {},
     "output_type": "execute_result"
    }
   ],
   "source": [
    "test_df.inhashtag.value_counts()"
   ]
  },
  {
   "cell_type": "markdown",
   "metadata": {},
   "source": [
    "#### urlとhashtagの両方が含まれる場合，1/4以上の確率で正例"
   ]
  },
  {
   "cell_type": "code",
   "execution_count": 107,
   "metadata": {},
   "outputs": [
    {
     "name": "stderr",
     "output_type": "stream",
     "text": [
      "/Users/rikeda/Development/DisasterPrediction/env/lib/python3.7/site-packages/ipykernel_launcher.py:1: UserWarning: Boolean Series key will be reindexed to match DataFrame index.\n",
      "  \"\"\"Entry point for launching an IPython kernel.\n"
     ]
    },
    {
     "data": {
      "text/plain": [
       "0    1055\n",
       "1     338\n",
       "Name: flg, dtype: int64"
      ]
     },
     "execution_count": 107,
     "metadata": {},
     "output_type": "execute_result"
    }
   ],
   "source": [
    "train_df[train_df.inurl][train_df.inhashtag].flg.value_counts()"
   ]
  },
  {
   "cell_type": "markdown",
   "metadata": {},
   "source": [
    "## 絵文字\n",
    "- 絵文字は真剣なツイート中に出現しにくいため，正例にはほとんど出現しない"
   ]
  },
  {
   "cell_type": "code",
   "execution_count": 108,
   "metadata": {},
   "outputs": [],
   "source": [
    "def in_emoji(text: str):\n",
    "    for c in text:\n",
    "        if c in emoji.UNICODE_EMOJI:\n",
    "            return True\n",
    "    return False"
   ]
  },
  {
   "cell_type": "code",
   "execution_count": 109,
   "metadata": {},
   "outputs": [],
   "source": [
    "train_df['inemoji'] = train_df.text.apply(in_emoji)\n",
    "test_df['inemoji'] = test_df.text.apply(in_emoji)"
   ]
  },
  {
   "cell_type": "code",
   "execution_count": 110,
   "metadata": {},
   "outputs": [
    {
     "data": {
      "text/plain": [
       "False    17849\n",
       "True      2436\n",
       "Name: inemoji, dtype: int64"
      ]
     },
     "execution_count": 110,
     "metadata": {},
     "output_type": "execute_result"
    }
   ],
   "source": [
    "train_df.inemoji.value_counts()"
   ]
  },
  {
   "cell_type": "code",
   "execution_count": 111,
   "metadata": {},
   "outputs": [
    {
     "data": {
      "text/plain": [
       "60"
      ]
     },
     "execution_count": 111,
     "metadata": {},
     "output_type": "execute_result"
    }
   ],
   "source": [
    "train_df[train_df.flg == 1].inemoji.sum()"
   ]
  },
  {
   "cell_type": "code",
   "execution_count": 112,
   "metadata": {},
   "outputs": [
    {
     "data": {
      "text/plain": [
       "2376"
      ]
     },
     "execution_count": 112,
     "metadata": {},
     "output_type": "execute_result"
    }
   ],
   "source": [
    "train_df[train_df.flg == 0].inemoji.sum()"
   ]
  },
  {
   "cell_type": "code",
   "execution_count": 113,
   "metadata": {},
   "outputs": [
    {
     "data": {
      "text/plain": [
       "False    11917\n",
       "True      1607\n",
       "Name: inemoji, dtype: int64"
      ]
     },
     "execution_count": 113,
     "metadata": {},
     "output_type": "execute_result"
    }
   ],
   "source": [
    "test_df.inemoji.value_counts()"
   ]
  },
  {
   "cell_type": "markdown",
   "metadata": {},
   "source": [
    "## 顔文字\n",
    "- 顔文字も雑なルールで抽出したが，顔文字を含むツイートは負例が多い\n",
    "- 絵文字も顔文字も真面目な場面では使われにくいことが影響か"
   ]
  },
  {
   "cell_type": "code",
   "execution_count": 130,
   "metadata": {},
   "outputs": [],
   "source": [
    "def in_kaomoji(text: str):\n",
    "    m = re.compile(r'\\([^あ-ん\\u30A1-\\u30F4\\u2E80-\\u2FDF\\u3005-\\u3007\\u3400-\\u4DBF\\u4E00-\\u9FFF\\uF900-\\uFAFF\\U00020000-\\U0002EBEF]+?\\)')\n",
    "    return m.search(text) is not None"
   ]
  },
  {
   "cell_type": "code",
   "execution_count": 131,
   "metadata": {},
   "outputs": [],
   "source": [
    "train_df['inkaomoji'] = train_df.text.apply(in_kaomoji)\n",
    "test_df['inkaomoji'] = test_df.text.apply(in_kaomoji)"
   ]
  },
  {
   "cell_type": "code",
   "execution_count": 132,
   "metadata": {},
   "outputs": [
    {
     "data": {
      "text/plain": [
       "False    19150\n",
       "True      1135\n",
       "Name: inkaomoji, dtype: int64"
      ]
     },
     "execution_count": 132,
     "metadata": {},
     "output_type": "execute_result"
    }
   ],
   "source": [
    "train_df.inkaomoji.value_counts()"
   ]
  },
  {
   "cell_type": "code",
   "execution_count": 133,
   "metadata": {},
   "outputs": [
    {
     "data": {
      "text/plain": [
       "72"
      ]
     },
     "execution_count": 133,
     "metadata": {},
     "output_type": "execute_result"
    }
   ],
   "source": [
    "train_df[train_df.flg == 1].inkaomoji.sum()"
   ]
  },
  {
   "cell_type": "code",
   "execution_count": 134,
   "metadata": {},
   "outputs": [
    {
     "data": {
      "text/plain": [
       "1063"
      ]
     },
     "execution_count": 134,
     "metadata": {},
     "output_type": "execute_result"
    }
   ],
   "source": [
    "train_df[train_df.flg == 0].inkaomoji.sum()"
   ]
  },
  {
   "cell_type": "code",
   "execution_count": 135,
   "metadata": {},
   "outputs": [
    {
     "data": {
      "text/plain": [
       "False    12695\n",
       "True       829\n",
       "Name: inkaomoji, dtype: int64"
      ]
     },
     "execution_count": 135,
     "metadata": {},
     "output_type": "execute_result"
    }
   ],
   "source": [
    "test_df.inkaomoji.value_counts()"
   ]
  },
  {
   "cell_type": "markdown",
   "metadata": {},
   "source": [
    "## keywords"
   ]
  },
  {
   "cell_type": "code",
   "execution_count": 138,
   "metadata": {},
   "outputs": [
    {
     "data": {
      "text/plain": [
       "抹消する             264\n",
       "雪崩               251\n",
       "燃えている            245\n",
       "警察               242\n",
       "検査               241\n",
       "                ... \n",
       "暴力 爆撃              1\n",
       "衝突 大破 正面衝突         1\n",
       "目撃者 目撃証言 殺人者       1\n",
       "虐殺 窃盗 殺人者 殺人鬼      1\n",
       "衝突 負傷 正面衝突         1\n",
       "Name: keyword, Length: 315, dtype: int64"
      ]
     },
     "execution_count": 138,
     "metadata": {},
     "output_type": "execute_result"
    }
   ],
   "source": [
    "train_df.keyword.value_counts()"
   ]
  },
  {
   "cell_type": "markdown",
   "metadata": {},
   "source": [
    "## 数字\n",
    "- 正例のほとんど(1183/1434)に数字系列がふくまれているので有効な素性の可能性がある"
   ]
  },
  {
   "cell_type": "code",
   "execution_count": 139,
   "metadata": {},
   "outputs": [],
   "source": [
    "def in_number(text: str):\n",
    "    return re.search(r'\\d+', text) is not None"
   ]
  },
  {
   "cell_type": "code",
   "execution_count": 140,
   "metadata": {},
   "outputs": [],
   "source": [
    "train_df['innum'] = train_df.text.apply(in_number)\n",
    "test_df['innum'] = test_df.text.apply(in_number)"
   ]
  },
  {
   "cell_type": "code",
   "execution_count": 141,
   "metadata": {},
   "outputs": [
    {
     "data": {
      "text/plain": [
       "False    10623\n",
       "True      9662\n",
       "Name: innum, dtype: int64"
      ]
     },
     "execution_count": 141,
     "metadata": {},
     "output_type": "execute_result"
    }
   ],
   "source": [
    "train_df.innum.value_counts()"
   ]
  },
  {
   "cell_type": "code",
   "execution_count": 142,
   "metadata": {},
   "outputs": [
    {
     "data": {
      "text/plain": [
       "1183"
      ]
     },
     "execution_count": 142,
     "metadata": {},
     "output_type": "execute_result"
    }
   ],
   "source": [
    "train_df[train_df.flg == 1].innum.sum()"
   ]
  },
  {
   "cell_type": "code",
   "execution_count": 143,
   "metadata": {},
   "outputs": [
    {
     "data": {
      "text/plain": [
       "8479"
      ]
     },
     "execution_count": 143,
     "metadata": {},
     "output_type": "execute_result"
    }
   ],
   "source": [
    "train_df[train_df.flg == 0].innum.sum()"
   ]
  },
  {
   "cell_type": "code",
   "execution_count": 144,
   "metadata": {},
   "outputs": [
    {
     "data": {
      "text/plain": [
       "False    7089\n",
       "True     6435\n",
       "Name: innum, dtype: int64"
      ]
     },
     "execution_count": 144,
     "metadata": {},
     "output_type": "execute_result"
    }
   ],
   "source": [
    "test_df.innum.value_counts()"
   ]
  },
  {
   "cell_type": "code",
   "execution_count": null,
   "metadata": {},
   "outputs": [],
   "source": []
  }
 ],
 "metadata": {
  "kernelspec": {
   "display_name": "Python 3",
   "language": "python",
   "name": "python3"
  },
  "language_info": {
   "codemirror_mode": {
    "name": "ipython",
    "version": 3
   },
   "file_extension": ".py",
   "mimetype": "text/x-python",
   "name": "python",
   "nbconvert_exporter": "python",
   "pygments_lexer": "ipython3",
   "version": "3.7.5"
  }
 },
 "nbformat": 4,
 "nbformat_minor": 4
}
