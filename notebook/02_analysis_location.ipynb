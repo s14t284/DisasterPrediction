{
 "cells": [
  {
   "cell_type": "code",
   "execution_count": 21,
   "metadata": {},
   "outputs": [],
   "source": [
    "import pandas as pd\n",
    "import re"
   ]
  },
  {
   "cell_type": "code",
   "execution_count": 2,
   "metadata": {},
   "outputs": [
    {
     "data": {
      "text/html": [
       "<div>\n",
       "<style scoped>\n",
       "    .dataframe tbody tr th:only-of-type {\n",
       "        vertical-align: middle;\n",
       "    }\n",
       "\n",
       "    .dataframe tbody tr th {\n",
       "        vertical-align: top;\n",
       "    }\n",
       "\n",
       "    .dataframe thead th {\n",
       "        text-align: right;\n",
       "    }\n",
       "</style>\n",
       "<table border=\"1\" class=\"dataframe\">\n",
       "  <thead>\n",
       "    <tr style=\"text-align: right;\">\n",
       "      <th></th>\n",
       "      <th>id</th>\n",
       "      <th>flg</th>\n",
       "      <th>keyword</th>\n",
       "      <th>location</th>\n",
       "      <th>text</th>\n",
       "    </tr>\n",
       "  </thead>\n",
       "  <tbody>\n",
       "    <tr>\n",
       "      <th>0</th>\n",
       "      <td>20587</td>\n",
       "      <td>0</td>\n",
       "      <td>覚醒剤</td>\n",
       "      <td>icon:大トロ(@sato_wall_aim )</td>\n",
       "      <td>【マイリスト】カカカカ覚醒剤 https://t.co/15ZY9Oa2QS #sm3630...</td>\n",
       "    </tr>\n",
       "    <tr>\n",
       "      <th>1</th>\n",
       "      <td>31857</td>\n",
       "      <td>0</td>\n",
       "      <td>雷 落雷</td>\n",
       "      <td>ジャングル</td>\n",
       "      <td>@kenjikenji3343 せやな　落雷撃たれたら全員張り付くしかなかったからなぁ　なん...</td>\n",
       "    </tr>\n",
       "    <tr>\n",
       "      <th>2</th>\n",
       "      <td>36793</td>\n",
       "      <td>0</td>\n",
       "      <td>血液</td>\n",
       "      <td>↓↓↓↓↓こちらをクリック↓↓↓↓</td>\n",
       "      <td>【カフェインの力】 体を動かす前にカフェインを摂ると交感神経が刺激され、体内の脂肪が分解され...</td>\n",
       "    </tr>\n",
       "    <tr>\n",
       "      <th>3</th>\n",
       "      <td>42299</td>\n",
       "      <td>0</td>\n",
       "      <td>ハリケーン</td>\n",
       "      <td>Close to your heart</td>\n",
       "      <td>あなたの鼓膜に直に響かせたい ハリケーンのように激しく愛したい 余計な壁なんて取っ払って　奥...</td>\n",
       "    </tr>\n",
       "    <tr>\n",
       "      <th>4</th>\n",
       "      <td>51449</td>\n",
       "      <td>0</td>\n",
       "      <td>殺人鬼</td>\n",
       "      <td>偽物なので悪しからず</td>\n",
       "      <td>@Mr8yt 違う違う。お化けは現実にいないけど殺人鬼は現実にいるじゃん〜。うーん、ホラーっ...</td>\n",
       "    </tr>\n",
       "  </tbody>\n",
       "</table>\n",
       "</div>"
      ],
      "text/plain": [
       "      id  flg keyword                   location  \\\n",
       "0  20587    0     覚醒剤  icon:大トロ(@sato_wall_aim )   \n",
       "1  31857    0    雷 落雷                      ジャングル   \n",
       "2  36793    0      血液          ↓↓↓↓↓こちらをクリック↓↓↓↓   \n",
       "3  42299    0   ハリケーン        Close to your heart   \n",
       "4  51449    0     殺人鬼                 偽物なので悪しからず   \n",
       "\n",
       "                                                text  \n",
       "0  【マイリスト】カカカカ覚醒剤 https://t.co/15ZY9Oa2QS #sm3630...  \n",
       "1  @kenjikenji3343 せやな　落雷撃たれたら全員張り付くしかなかったからなぁ　なん...  \n",
       "2  【カフェインの力】 体を動かす前にカフェインを摂ると交感神経が刺激され、体内の脂肪が分解され...  \n",
       "3  あなたの鼓膜に直に響かせたい ハリケーンのように激しく愛したい 余計な壁なんて取っ払って　奥...  \n",
       "4  @Mr8yt 違う違う。お化けは現実にいないけど殺人鬼は現実にいるじゃん〜。うーん、ホラーっ...  "
      ]
     },
     "execution_count": 2,
     "metadata": {},
     "output_type": "execute_result"
    }
   ],
   "source": [
    "df = pd.read_csv('../data/1.train_data.csv')\n",
    "df = df.fillna({'location': 'nan'})\n",
    "df.head()"
   ]
  },
  {
   "cell_type": "code",
   "execution_count": 3,
   "metadata": {},
   "outputs": [
    {
     "data": {
      "text/plain": [
       "0    7921\n",
       "1     545\n",
       "Name: flg, dtype: int64"
      ]
     },
     "execution_count": 3,
     "metadata": {},
     "output_type": "execute_result"
    }
   ],
   "source": [
    "df[df.location == 'nan'].flg.value_counts()"
   ]
  },
  {
   "cell_type": "code",
   "execution_count": 4,
   "metadata": {},
   "outputs": [
    {
     "data": {
      "text/plain": [
       "0    10930\n",
       "1      889\n",
       "Name: flg, dtype: int64"
      ]
     },
     "execution_count": 4,
     "metadata": {},
     "output_type": "execute_result"
    }
   ],
   "source": [
    "df[df.location != 'nan'].flg.value_counts()"
   ]
  },
  {
   "cell_type": "code",
   "execution_count": 5,
   "metadata": {},
   "outputs": [
    {
     "data": {
      "text/html": [
       "<div>\n",
       "<style scoped>\n",
       "    .dataframe tbody tr th:only-of-type {\n",
       "        vertical-align: middle;\n",
       "    }\n",
       "\n",
       "    .dataframe tbody tr th {\n",
       "        vertical-align: top;\n",
       "    }\n",
       "\n",
       "    .dataframe thead th {\n",
       "        text-align: right;\n",
       "    }\n",
       "</style>\n",
       "<table border=\"1\" class=\"dataframe\">\n",
       "  <thead>\n",
       "    <tr style=\"text-align: right;\">\n",
       "      <th></th>\n",
       "      <th>id</th>\n",
       "      <th>flg</th>\n",
       "      <th>keyword</th>\n",
       "      <th>location</th>\n",
       "      <th>text</th>\n",
       "    </tr>\n",
       "  </thead>\n",
       "  <tbody>\n",
       "    <tr>\n",
       "      <th>0</th>\n",
       "      <td>20587</td>\n",
       "      <td>0</td>\n",
       "      <td>覚醒剤</td>\n",
       "      <td>icon:大トロ(@sato_wall_aim )</td>\n",
       "      <td>【マイリスト】カカカカ覚醒剤 https://t.co/15ZY9Oa2QS #sm3630...</td>\n",
       "    </tr>\n",
       "    <tr>\n",
       "      <th>1</th>\n",
       "      <td>31857</td>\n",
       "      <td>0</td>\n",
       "      <td>雷 落雷</td>\n",
       "      <td>ジャングル</td>\n",
       "      <td>@kenjikenji3343 せやな　落雷撃たれたら全員張り付くしかなかったからなぁ　なん...</td>\n",
       "    </tr>\n",
       "    <tr>\n",
       "      <th>2</th>\n",
       "      <td>36793</td>\n",
       "      <td>0</td>\n",
       "      <td>血液</td>\n",
       "      <td>↓↓↓↓↓こちらをクリック↓↓↓↓</td>\n",
       "      <td>【カフェインの力】 体を動かす前にカフェインを摂ると交感神経が刺激され、体内の脂肪が分解され...</td>\n",
       "    </tr>\n",
       "    <tr>\n",
       "      <th>3</th>\n",
       "      <td>42299</td>\n",
       "      <td>0</td>\n",
       "      <td>ハリケーン</td>\n",
       "      <td>Close to your heart</td>\n",
       "      <td>あなたの鼓膜に直に響かせたい ハリケーンのように激しく愛したい 余計な壁なんて取っ払って　奥...</td>\n",
       "    </tr>\n",
       "    <tr>\n",
       "      <th>4</th>\n",
       "      <td>51449</td>\n",
       "      <td>0</td>\n",
       "      <td>殺人鬼</td>\n",
       "      <td>偽物なので悪しからず</td>\n",
       "      <td>@Mr8yt 違う違う。お化けは現実にいないけど殺人鬼は現実にいるじゃん〜。うーん、ホラーっ...</td>\n",
       "    </tr>\n",
       "  </tbody>\n",
       "</table>\n",
       "</div>"
      ],
      "text/plain": [
       "      id  flg keyword                   location  \\\n",
       "0  20587    0     覚醒剤  icon:大トロ(@sato_wall_aim )   \n",
       "1  31857    0    雷 落雷                      ジャングル   \n",
       "2  36793    0      血液          ↓↓↓↓↓こちらをクリック↓↓↓↓   \n",
       "3  42299    0   ハリケーン        Close to your heart   \n",
       "4  51449    0     殺人鬼                 偽物なので悪しからず   \n",
       "\n",
       "                                                text  \n",
       "0  【マイリスト】カカカカ覚醒剤 https://t.co/15ZY9Oa2QS #sm3630...  \n",
       "1  @kenjikenji3343 せやな　落雷撃たれたら全員張り付くしかなかったからなぁ　なん...  \n",
       "2  【カフェインの力】 体を動かす前にカフェインを摂ると交感神経が刺激され、体内の脂肪が分解され...  \n",
       "3  あなたの鼓膜に直に響かせたい ハリケーンのように激しく愛したい 余計な壁なんて取っ払って　奥...  \n",
       "4  @Mr8yt 違う違う。お化けは現実にいないけど殺人鬼は現実にいるじゃん〜。うーん、ホラーっ...  "
      ]
     },
     "execution_count": 5,
     "metadata": {},
     "output_type": "execute_result"
    }
   ],
   "source": [
    "df_has_location = df[df.location != 'nan']\n",
    "df_has_location.head()"
   ]
  },
  {
   "cell_type": "code",
   "execution_count": 24,
   "metadata": {},
   "outputs": [
    {
     "data": {
      "text/plain": [
       "0     icon:大トロ(@sato_wall_aim )\n",
       "1                         ジャングル\n",
       "2             ↓↓↓↓↓こちらをクリック↓↓↓↓\n",
       "3           Close to your heart\n",
       "4                    偽物なので悪しからず\n",
       "5                            東京\n",
       "6                          葺合けi\n",
       "8                       教科書のすきま\n",
       "10                           大坂\n",
       "14                       海の無い東海\n",
       "Name: location, dtype: object"
      ]
     },
     "execution_count": 24,
     "metadata": {},
     "output_type": "execute_result"
    }
   ],
   "source": [
    "locations = df_has_location.location.to_list()\n",
    "df_has_location.location.head(10)"
   ]
  },
  {
   "cell_type": "markdown",
   "metadata": {},
   "source": [
    "## 都道府県名をlocationに含むか含まないか\n",
    "- 含む場合：含まない場合=1:4\n",
    "- 含む場合は15%くらいで正例\n",
    "- 含まない場合は8%くらい"
   ]
  },
  {
   "cell_type": "code",
   "execution_count": 20,
   "metadata": {},
   "outputs": [
    {
     "name": "stderr",
     "output_type": "stream",
     "text": [
      "/Users/rikeda/Development/DisasterPrediction/env/lib/python3.7/site-packages/pandas/core/indexing.py:965: SettingWithCopyWarning: \n",
      "A value is trying to be set on a copy of a slice from a DataFrame.\n",
      "Try using .loc[row_indexer,col_indexer] = value instead\n",
      "\n",
      "See the caveats in the documentation: https://pandas.pydata.org/pandas-docs/stable/user_guide/indexing.html#returning-a-view-versus-a-copy\n",
      "  self.obj[item] = s\n"
     ]
    },
    {
     "data": {
      "text/plain": [
       "0    2564\n",
       "1     377\n",
       "Name: flg, dtype: int64"
      ]
     },
     "execution_count": 20,
     "metadata": {},
     "output_type": "execute_result"
    }
   ],
   "source": [
    "with open('../data/japanese_prefectures.txt') as f:\n",
    "    prefectures = [line[:-1] for line in f.readlines()]\n",
    "def in_prefecture_name(location: str):\n",
    "    for p in prefectures:\n",
    "        if p in location:\n",
    "            return True\n",
    "    return False\n",
    "df_has_location.loc[:, 'in_prefecture'] = df_has_location.location.apply(in_prefecture_name)\n",
    "df_has_location[df_has_location['in_prefecture']].flg.value_counts()"
   ]
  },
  {
   "cell_type": "code",
   "execution_count": 18,
   "metadata": {},
   "outputs": [
    {
     "data": {
      "text/plain": [
       "0    8366\n",
       "1     512\n",
       "Name: flg, dtype: int64"
      ]
     },
     "execution_count": 18,
     "metadata": {},
     "output_type": "execute_result"
    }
   ],
   "source": [
    "df_has_location[~df_has_location['in_prefecture']].flg.value_counts()"
   ]
  },
  {
   "cell_type": "markdown",
   "metadata": {},
   "source": [
    "## 地方名を含むかどうか\n",
    "- 含まないものがほとんど．含まない方が負例っぽいので，相関はなさそう"
   ]
  },
  {
   "cell_type": "code",
   "execution_count": 25,
   "metadata": {},
   "outputs": [
    {
     "data": {
      "text/plain": [
       "0    195\n",
       "1     17\n",
       "Name: flg, dtype: int64"
      ]
     },
     "execution_count": 25,
     "metadata": {},
     "output_type": "execute_result"
    }
   ],
   "source": [
    "with open('../data/japanese_regions.txt') as f:\n",
    "    regions = [line[:-1] for line in f.readlines()]\n",
    "def in_region_name(location: str):\n",
    "    for p in regions:\n",
    "        if p in location:\n",
    "            return True\n",
    "    return False\n",
    "df_has_location.loc[:, 'in_region'] = df_has_location.location.apply(in_region_name)\n",
    "df_has_location[df_has_location['in_region']].flg.value_counts()"
   ]
  },
  {
   "cell_type": "code",
   "execution_count": 26,
   "metadata": {},
   "outputs": [
    {
     "data": {
      "text/plain": [
       "0    10735\n",
       "1      872\n",
       "Name: flg, dtype: int64"
      ]
     },
     "execution_count": 26,
     "metadata": {},
     "output_type": "execute_result"
    }
   ],
   "source": [
    "df_has_location[~df_has_location['in_region']].flg.value_counts()"
   ]
  },
  {
   "cell_type": "markdown",
   "metadata": {},
   "source": [
    "## 県庁所在地名を含むかどうか\n",
    "- 含むものはlocationが書かれている中で1/10くらい．含むものの方が正例である可能性が高いか"
   ]
  },
  {
   "cell_type": "code",
   "execution_count": 27,
   "metadata": {},
   "outputs": [
    {
     "data": {
      "text/plain": [
       "0    1602\n",
       "1     252\n",
       "Name: flg, dtype: int64"
      ]
     },
     "execution_count": 27,
     "metadata": {},
     "output_type": "execute_result"
    }
   ],
   "source": [
    "with open('../data/japanese_capitals.txt') as f:\n",
    "    capitals = [line[:-1] for line in f.readlines()]\n",
    "def in_capital_name(location: str):\n",
    "    for p in capitals:\n",
    "        if p in location:\n",
    "            return True\n",
    "    return False\n",
    "df_has_location.loc[:, 'in_capital'] = df_has_location.location.apply(in_capital_name)\n",
    "df_has_location[df_has_location['in_capital']].flg.value_counts()"
   ]
  },
  {
   "cell_type": "code",
   "execution_count": 28,
   "metadata": {},
   "outputs": [
    {
     "data": {
      "text/plain": [
       "0    9328\n",
       "1     637\n",
       "Name: flg, dtype: int64"
      ]
     },
     "execution_count": 28,
     "metadata": {},
     "output_type": "execute_result"
    }
   ],
   "source": [
    "df_has_location[~df_has_location['in_capital']].flg.value_counts()"
   ]
  },
  {
   "cell_type": "markdown",
   "metadata": {},
   "source": [
    "## 英語名を含むかどうか\n",
    "- 含まない方が若干正例である確率が高そうだけど，そこまで相関はなさそう"
   ]
  },
  {
   "cell_type": "code",
   "execution_count": 22,
   "metadata": {},
   "outputs": [
    {
     "name": "stderr",
     "output_type": "stream",
     "text": [
      "/Users/rikeda/Development/DisasterPrediction/env/lib/python3.7/site-packages/pandas/core/indexing.py:844: SettingWithCopyWarning: \n",
      "A value is trying to be set on a copy of a slice from a DataFrame.\n",
      "Try using .loc[row_indexer,col_indexer] = value instead\n",
      "\n",
      "See the caveats in the documentation: https://pandas.pydata.org/pandas-docs/stable/user_guide/indexing.html#returning-a-view-versus-a-copy\n",
      "  self.obj[key] = _infer_fill_value(value)\n"
     ]
    },
    {
     "data": {
      "text/plain": [
       "0    1802\n",
       "1     246\n",
       "Name: flg, dtype: int64"
      ]
     },
     "execution_count": 22,
     "metadata": {},
     "output_type": "execute_result"
    }
   ],
   "source": [
    "def in_eng(location: str):\n",
    "    return len(re.findall(r'[A-Za-z]', location)) > 0\n",
    "\n",
    "df_has_location.loc[:, 'in_eng'] = df_has_location.location.apply(in_eng)\n",
    "df_has_location[df_has_location['in_eng']].flg.value_counts()"
   ]
  },
  {
   "cell_type": "code",
   "execution_count": 23,
   "metadata": {},
   "outputs": [
    {
     "data": {
      "text/plain": [
       "0    9128\n",
       "1     643\n",
       "Name: flg, dtype: int64"
      ]
     },
     "execution_count": 23,
     "metadata": {},
     "output_type": "execute_result"
    }
   ],
   "source": [
    "df_has_location[~df_has_location['in_eng']].flg.value_counts()"
   ]
  },
  {
   "cell_type": "markdown",
   "metadata": {},
   "source": [
    "### ローマ字で県名を含むかどうか，ローマ字で県庁所在地名を含むかどうか\n",
    "- 5%もないくらいしか含まれていない\n",
    "- ただし，県名が含まれていたら15%くらい，県庁所在地名が含まれていたら33%くらいで正例"
   ]
  },
  {
   "cell_type": "code",
   "execution_count": 33,
   "metadata": {},
   "outputs": [
    {
     "data": {
      "text/plain": [
       "0    328\n",
       "1     64\n",
       "Name: flg, dtype: int64"
      ]
     },
     "execution_count": 33,
     "metadata": {},
     "output_type": "execute_result"
    }
   ],
   "source": [
    "with open('../data/roma_prefectures.txt') as f:\n",
    "    roma_prefectures = [line[:-1] for line in f.readlines()]\n",
    "def in_roma_prefecture_name(location: str):\n",
    "    l = location.lower()\n",
    "    for p in roma_prefectures:\n",
    "        if p in l:\n",
    "            return True\n",
    "    return False\n",
    "df_has_location.loc[:, 'in_roma_prefecture'] = df_has_location.location.apply(in_roma_prefecture_name)\n",
    "df_has_location[df_has_location['in_roma_prefecture']].flg.value_counts()"
   ]
  },
  {
   "cell_type": "code",
   "execution_count": 34,
   "metadata": {},
   "outputs": [
    {
     "data": {
      "text/plain": [
       "0    10602\n",
       "1      825\n",
       "Name: flg, dtype: int64"
      ]
     },
     "execution_count": 34,
     "metadata": {},
     "output_type": "execute_result"
    }
   ],
   "source": [
    "df_has_location[~df_has_location['in_roma_prefecture']].flg.value_counts()"
   ]
  },
  {
   "cell_type": "code",
   "execution_count": 35,
   "metadata": {},
   "outputs": [
    {
     "data": {
      "text/plain": [
       "0    165\n",
       "1     88\n",
       "Name: flg, dtype: int64"
      ]
     },
     "execution_count": 35,
     "metadata": {},
     "output_type": "execute_result"
    }
   ],
   "source": [
    "with open('../data/roma_capitals.txt') as f:\n",
    "    roma_capitals = [line[:-1] for line in f.readlines()]\n",
    "def in_roma_capital_name(location: str):\n",
    "    l = location.lower()\n",
    "    for p in roma_capitals:\n",
    "        if p in l:\n",
    "            return True\n",
    "    return False\n",
    "df_has_location.loc[:, 'in_roma_capital'] = df_has_location.location.apply(in_roma_capital_name)\n",
    "df_has_location[df_has_location['in_roma_capital']].flg.value_counts()"
   ]
  },
  {
   "cell_type": "code",
   "execution_count": 36,
   "metadata": {},
   "outputs": [
    {
     "data": {
      "text/plain": [
       "0    10765\n",
       "1      801\n",
       "Name: flg, dtype: int64"
      ]
     },
     "execution_count": 36,
     "metadata": {},
     "output_type": "execute_result"
    }
   ],
   "source": [
    "df_has_location[~df_has_location['in_roma_capital']].flg.value_counts()"
   ]
  },
  {
   "cell_type": "markdown",
   "metadata": {},
   "source": [
    "## その他，地名の手がかり語を含む\n",
    "- 20%くらい含んでいる．\n",
    "- 20%のうち，15%くらいが正例"
   ]
  },
  {
   "cell_type": "code",
   "execution_count": 43,
   "metadata": {},
   "outputs": [
    {
     "data": {
      "text/plain": [
       "0    2160\n",
       "1     331\n",
       "Name: flg, dtype: int64"
      ]
     },
     "execution_count": 43,
     "metadata": {},
     "output_type": "execute_result"
    }
   ],
   "source": [
    "place_clues = ['都', '市', '県', '市', '町', '区', '府', '村', '都市', '地方', '地域', '圏', '地区']\n",
    "def in_place_clues(location: str):\n",
    "    for p in place_clues:\n",
    "        if p in location:\n",
    "            return True\n",
    "    return False\n",
    "df_has_location.loc[:, 'in_place_clue'] = df_has_location.location.apply(in_place_clues)\n",
    "df_has_location[df_has_location['in_place_clue']].flg.value_counts()"
   ]
  },
  {
   "cell_type": "code",
   "execution_count": 44,
   "metadata": {},
   "outputs": [
    {
     "data": {
      "text/plain": [
       "0    8770\n",
       "1     558\n",
       "Name: flg, dtype: int64"
      ]
     },
     "execution_count": 44,
     "metadata": {},
     "output_type": "execute_result"
    }
   ],
   "source": [
    "df_has_location[~df_has_location['in_place_clue']].flg.value_counts()"
   ]
  },
  {
   "cell_type": "markdown",
   "metadata": {},
   "source": [
    "## 日本であることがわかる単語\n",
    "- 10%くらい含んでいる．\n",
    "- 10%のうち，12%くらいが正例"
   ]
  },
  {
   "cell_type": "code",
   "execution_count": 50,
   "metadata": {},
   "outputs": [
    {
     "data": {
      "text/plain": [
       "0    1318\n",
       "1     192\n",
       "Name: flg, dtype: int64"
      ]
     },
     "execution_count": 50,
     "metadata": {},
     "output_type": "execute_result"
    }
   ],
   "source": [
    "japan_clues = ['日本', 'japan']\n",
    "def in_japan(location: str):\n",
    "    l = location.lower()\n",
    "    for p in japan_clues:\n",
    "        if p in l:\n",
    "            return True\n",
    "    return False\n",
    "df_has_location.loc[:, 'in_japan'] = df_has_location.location.apply(in_japan)\n",
    "df_has_location[df_has_location['in_japan']].flg.value_counts()"
   ]
  },
  {
   "cell_type": "code",
   "execution_count": 46,
   "metadata": {},
   "outputs": [
    {
     "data": {
      "text/plain": [
       "0    9612\n",
       "1     697\n",
       "Name: flg, dtype: int64"
      ]
     },
     "execution_count": 46,
     "metadata": {},
     "output_type": "execute_result"
    }
   ],
   "source": [
    "df_has_location[~df_has_location['in_japan']].flg.value_counts()"
   ]
  },
  {
   "cell_type": "markdown",
   "metadata": {},
   "source": [
    "## パターンマッチの組み合わせ"
   ]
  },
  {
   "cell_type": "code",
   "execution_count": 49,
   "metadata": {},
   "outputs": [
    {
     "name": "stdout",
     "output_type": "stream",
     "text": [
      " === prefecture + clue === \n",
      " 0    1508\n",
      "1     286\n",
      "Name: flg, dtype: int64\n",
      " === region + clue === \n",
      " 0    62\n",
      "1     8\n",
      "Name: flg, dtype: int64\n",
      " === capital + clue === \n",
      " 0    1072\n",
      "1     203\n",
      "Name: flg, dtype: int64\n",
      " === prefecture + capital + clue === \n",
      " 0    985\n",
      "1    190\n",
      "Name: flg, dtype: int64\n"
     ]
    }
   ],
   "source": [
    "print(' === prefecture + clue === \\n', df_has_location[df_has_location['in_prefecture'] & df_has_location['in_place_clue']].flg.value_counts())\n",
    "print(' === region + clue === \\n', df_has_location[df_has_location['in_region'] & df_has_location['in_place_clue']].flg.value_counts())\n",
    "print(' === capital + clue === \\n', df_has_location[df_has_location['in_capital'] & df_has_location['in_place_clue']].flg.value_counts())\n",
    "print(' === prefecture + capital + clue === \\n', df_has_location[df_has_location['in_prefecture'] & df_has_location['in_capital'] & df_has_location['in_place_clue']].flg.value_counts())"
   ]
  },
  {
   "cell_type": "code",
   "execution_count": null,
   "metadata": {},
   "outputs": [],
   "source": []
  }
 ],
 "metadata": {
  "kernelspec": {
   "display_name": "Python 3",
   "language": "python",
   "name": "python3"
  },
  "language_info": {
   "codemirror_mode": {
    "name": "ipython",
    "version": 3
   },
   "file_extension": ".py",
   "mimetype": "text/x-python",
   "name": "python",
   "nbconvert_exporter": "python",
   "pygments_lexer": "ipython3",
   "version": "3.7.5"
  }
 },
 "nbformat": 4,
 "nbformat_minor": 4
}
